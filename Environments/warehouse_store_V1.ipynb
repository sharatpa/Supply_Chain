{
  "nbformat": 4,
  "nbformat_minor": 0,
  "metadata": {
    "colab": {
      "name": "warehouse_store.ipynb",
      "provenance": [],
      "collapsed_sections": []
    },
    "kernelspec": {
      "display_name": "Python 3",
      "language": "python",
      "name": "python3"
    },
    "language_info": {
      "codemirror_mode": {
        "name": "ipython",
        "version": 3
      },
      "file_extension": ".py",
      "mimetype": "text/x-python",
      "name": "python",
      "nbconvert_exporter": "python",
      "pygments_lexer": "ipython3",
      "version": "3.7.4"
    }
  },
  "cells": [
    {
      "cell_type": "markdown",
      "metadata": {
        "id": "9Qkp-OUWqmBF",
        "colab_type": "text"
      },
      "source": [
        "Follows the work presented in Meisheri et. al. This script will simulate\n",
        "the warehouse and store, i.e. the final part of the supply chain."
      ]
    },
    {
      "cell_type": "code",
      "metadata": {
        "colab_type": "code",
        "id": "wZR2ul4X8d1V",
        "colab": {}
      },
      "source": [
        "import numpy as np\n",
        "import os\n",
        "import pandas as pd\n",
        "import random\n",
        "\n",
        "from copy import deepcopy\n",
        "\n",
        "from pathlib import Path\n",
        "\n",
        "from scipy.stats import gaussian_kde"
      ],
      "execution_count": 1,
      "outputs": []
    },
    {
      "cell_type": "code",
      "metadata": {
        "colab_type": "code",
        "id": "AiXti2R48Owo",
        "colab": {}
      },
      "source": [
        "class warehouse_store(object):\n",
        "\n",
        "    def __init__(self):\n",
        "        '''\n",
        "        Define certain parameters for the problem such as\n",
        "        1. number of timesteps and total simulation duration.\n",
        "        2. states and action spaces.\n",
        "        3. total weight and volume that can be carried by the supplier (truck)\n",
        "            this should be less than the average sales volume and weight.\n",
        "        4. variables to store data files.\n",
        "        '''\n",
        "        self.simulation_duration = 20#1392 (1396-8)\n",
        "        self.states = None\n",
        "        self.action = None\n",
        "        self.weight_capacity = 50 ## DOUBLE CHECK\n",
        "        self.volume_capacity = 50 ## DOUBLE CHECK\n",
        "        self.products_meta = None\n",
        "        self.forecast_data = None\n",
        "\n",
        "    def initialize(self, metadata, forecast_data, reward_func):\n",
        "        '''\n",
        "        Reads data files; initializes states, actions and reward.\n",
        "        '''\n",
        "        self.products_meta = pd.read_excel(metadata,sheet_name=\"50_products\")\n",
        "        self.forecast_data = pd.read_excel(forecast_data,sheet_name=\"50_products\")\n",
        "        self.num_prod = self.products_meta.shape[0]\n",
        "        ## Immediate forecasts include the forecasts for the next 2 days.\n",
        "        immediate_forecasts = self.forecast_data.iloc[0:2,2:].to_numpy().T\n",
        "        current_inventory = 10*np.ones([self.num_prod,1])\n",
        "        self.states = np.hstack((current_inventory,\n",
        "                        immediate_forecasts,\n",
        "                        self.products_meta['unit_volume'].to_numpy().reshape(self.num_prod,1),\n",
        "                        self.products_meta['unit_weight'].to_numpy().reshape(self.num_prod,1),\n",
        "                        self.products_meta['shelf_life'].to_numpy().reshape(self.num_prod,1)))\n",
        "        ## Initial action is random.\n",
        "        self.action = np.random.randint(0,5,(self.num_prod,1))\n",
        "        quantity_removed = 0\n",
        "        current_timestep = 1\n",
        "        reward = reward_func(self.states,self.action,quantity_removed,current_timestep)\n",
        "        return reward\n",
        "\n",
        "    def simulate(self, metadata, forecast_data, reward_func):\n",
        "        '''\n",
        "        Keeps track of inventory and constraints.\n",
        "        An artificial demand is created that is a Gaussian distribution\n",
        "        of the expected forecast.\n",
        "        Sign conventions:\n",
        "            1. Removing items from warehouse = Negative\n",
        "            2. Adding items to warehouse = Positive\n",
        "        '''\n",
        "        total_reward = 0\n",
        "        reward = self.initialize(metadata, forecast_data, reward_func)\n",
        "        total_reward += reward\n",
        "        curr_timestep = 1\n",
        "        demand = self.get_demand()\n",
        "        while curr_timestep < self.simulation_duration:\n",
        "          ## Inventory gets depleted with orders 4X a day.\n",
        "          self.states[:,0,None] -= demand[curr_timestep,:,None] #self.action\n",
        "          ## Action from NN to ensure inventory is replenished.\n",
        "          self.action = np.random.randint(0,5,(self.num_prod,1)) # Should be from NN\n",
        "          self.states[:,0,None] += self.action\n",
        "          ## Ensure inventory does not become less than zero.\n",
        "          self.states[:,0][self.states[:,0] < 0] = 0\n",
        "          ## Measure quantity of items removed to calculate reward.\n",
        "          quantity_removed = self.bookkeep(curr_timestep)\n",
        "          curr_timestep += 1\n",
        "          '''reward func here'''\n",
        "          reward = reward_func(self.states,self.action,quantity_removed,curr_timestep)\n",
        "          total_reward += reward\n",
        "          ## TODO: Volume and weight constraints.\n",
        "        return total_reward\n",
        "\n",
        "    def get_demand(self):\n",
        "        '''\n",
        "        Creates artificial demand at each time step.\n",
        "        '''\n",
        "        demand = np.zeros((self.simulation_duration,self.num_prod))\n",
        "        forecast_data = self.forecast_data.to_numpy()\n",
        "        for prod in range(2,forecast_data.shape[1]):\n",
        "          prod_distr = gaussian_kde(forecast_data[:,prod].astype(np.int))\n",
        "          resampled_distr = prod_distr.resample(forecast_data[:,prod].astype(np.int).shape)\n",
        "          std_dev_re = int(np.std(resampled_distr))\n",
        "          for timestep in range(0,self.simulation_duration-4,4):\n",
        "            daily_dem = lambda: int(forecast_data[int(timestep/4),prod]+random.randint(0,std_dev_re))\n",
        "            demand[timestep,prod-2] = daily_dem()\n",
        "            demand[timestep+1,prod-2] = daily_dem()\n",
        "            demand[timestep+2,prod-2] = daily_dem()\n",
        "        return demand\n",
        "\n",
        "    def bookkeep(self, timestep):\n",
        "        '''\n",
        "        Update forecasts and remove expired products from inventory.\n",
        "        Currently, removal of \"expired\" products is done by removing\n",
        "        20% of existing inventory at the end of the month.\n",
        "        '''\n",
        "        quantity_removed = 0\n",
        "        initial_inventory = deepcopy(self.states[:,0])\n",
        "        next_timestamp = int(np.floor(timestep/4))\n",
        "        if timestep%4 == 0 and timestep != 0:\n",
        "          next_timestamp -= 1\n",
        "        self.states[:,1:3] = self.forecast_data.iloc[next_timestamp:next_timestamp+2,2:].to_numpy().T\n",
        "        if timestep%120 == 0 and timestep != 0:\n",
        "          self.states[:,0] = np.ceil(0.8*self.states[:,0])\n",
        "        quantity_removed = np.ndarray.sum(initial_inventory - self.states[:,0])\n",
        "        return quantity_removed"
      ],
      "execution_count": 2,
      "outputs": []
    },
    {
      "cell_type": "code",
      "metadata": {
        "id": "7a2W_B6aXi68",
        "colab_type": "code",
        "colab": {}
      },
      "source": [
        "'''\n",
        "metadata_file = Path(os.path.dirname(os.getcwd())+\"/data/instacart-market-basket-analysis/products_metadata.xlsx\")\n",
        "forecast_data = Path(os.path.dirname(os.getcwd())+\"/data/instacart-market-basket-analysis/scenarios.xlsx\")\n",
        "w = warehouse_store()\n",
        "reward_func = 0\n",
        "w.simulate(metadata_file, forecast_data, reward_func)\n",
        "'''"
      ],
      "execution_count": null,
      "outputs": []
    }
  ]
}